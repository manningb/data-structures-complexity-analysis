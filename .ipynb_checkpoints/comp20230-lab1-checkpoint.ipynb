{
 "cells": [
  {
   "cell_type": "markdown",
   "metadata": {},
   "source": [
    "# COMP20230 Lab 1: Complexity Analysis\n",
    "\n",
    "In order to express the complexity of an algorithm, we can count the number of machine instructions or basic operations that will execute as a function of the input parameters. Counting the operations can give us the running time $T(n)$. This can be simplfied to give us the complexity, $\\mathcal{O}$ or big-Oh, by removing constants from the equation that would have a small impact on the overall complexity for very large values of $n$.\n",
    "\n"
   ]
  },
  {
   "cell_type": "markdown",
   "metadata": {},
   "source": [
    "## 1. Complexity in Python\n",
    "\n",
    "The complexity of an algorithm depends on the number of basic operations it contains. In this first exercise you will evaluate the complexity of simple Python functions - instead of algorithms. The idea is the same as algorithm analysis: identify the operations, count them. Take particular care of the loops.\n",
    "Here is an example:"
   ]
  },
  {
   "cell_type": "code",
   "execution_count": null,
   "metadata": {},
   "outputs": [],
   "source": [
    "def function_a (n) :\n",
    "    print(\"hello\") #1 operation\n",
    "    for i in range(n): #2 opeartions per loop, evaluate the value of range(n), check if i is less than i\n",
    "        # n loops here\n",
    "        print(\"n = \", n, \"; i=\", i) #1 operation print per loop, n loops\n",
    "    print (\" bye \") #1 operation"
   ]
  },
  {
   "cell_type": "code",
   "execution_count": null,
   "metadata": {},
   "outputs": [],
   "source": [
    "function_a(4)"
   ]
  },
  {
   "cell_type": "markdown",
   "metadata": {},
   "source": [
    "The program enters n times in the loop \\-  checking the loop condition takes 1 operation (incrementing *i*). The program does only 1 operation every time it enters the loop \\- we have 1 * n operations here. Outside the loop there are 2 simple instructions (one before and one after) which do only 1 operation each."
   ]
  },
  {
   "cell_type": "code",
   "execution_count": null,
   "metadata": {},
   "outputs": [],
   "source": [
    "def function_a(n):\n",
    "    print(\"hello\")          #1 operation\n",
    "    for i in range(n):      #2 operation (assignment) per loop, N loops\n",
    "        print(\"n = \", n)    #1 operation per loop, N operations\n",
    "    print(\"bye\")            #1 operation "
   ]
  },
  {
   "cell_type": "markdown",
   "metadata": {},
   "source": [
    "The running time of this algorithm is computed as follows: every operation with a \"per loop\" gives a factor of n: here 2 operations, so *3n*; every operation without a \"per loop\" gives you a value without an _n_: here 2. So in total, T(n)=3n + 2 meaning it is $\\mathcal{O}$(n).\n",
    "\n",
    "In the cell below we have a _magic_ command. These are notebook and not python commands. %%time will request that the OS times the execution of the cell for us and returns it in the cells output."
   ]
  },
  {
   "cell_type": "code",
   "execution_count": null,
   "metadata": {},
   "outputs": [],
   "source": [
    "%%time\n",
    "\n",
    "def function_b(n):\n",
    "    print(\"starting for\",n, \"loops\")          #1 operation\n",
    "    for i in range(n):                        #2 operation (assignment) per loop, N loops\n",
    "        for j in range(n):                        #2 operation (assignment) per loop, N loops\n",
    "            max=n                             #1 operation per loop, N operations\n",
    "    print(\"max n=\",n)                         #1 operation \n",
    "\n",
    "a=10\n",
    "function_b(a)"
   ]
  },
  {
   "cell_type": "code",
   "execution_count": 1,
   "metadata": {},
   "outputs": [],
   "source": [
    "import time\n",
    "import matplotlib.pyplot as plt\n",
    "import os, sys\n",
    "\n",
    "class HiddenPrints:\n",
    "    def __enter__(self):\n",
    "        self._original_stdout = sys.stdout\n",
    "        sys.stdout = open(os.devnull, 'w')\n",
    "\n",
    "    def __exit__(self, exc_type, exc_val, exc_tb):\n",
    "        sys.stdout.close()\n",
    "        sys.stdout = self._original_stdout\n",
    "\n",
    "    \n",
    "def test_function(func, n=[10,100,1000,3000,5000,8000, 10000]):\n",
    "    with HiddenPrints():\n",
    "        t = []\n",
    "        for i in n:\n",
    "            start_time = time.time()\n",
    "            func(i,i)\n",
    "            t.append(time.time() - start_time)\n",
    "\n",
    "        plt.plot(n,t)\n",
    "        plt.show()\n",
    "\n",
    "#test_function(function_b)"
   ]
  },
  {
   "cell_type": "markdown",
   "metadata": {},
   "source": [
    "We can run the cell repeatedly, changing the value for a. I have done 7 example tests below and recoded the times. I then used the matplotlib (which intalls by default as part of anaconda) to plot $n$ against $t$."
   ]
  },
  {
   "cell_type": "code",
   "execution_count": 2,
   "metadata": {},
   "outputs": [
    {
     "data": {
      "image/png": "[encoded data removed]",
      "text/plain": [
       "<Figure size 432x288 with 1 Axes>"
      ]
     },
     "metadata": {
      "needs_background": "light"
     },
     "output_type": "display_data"
    }
   ],
   "source": [
    "n=[10,100,1000,3000,5000,8000, 10000]\n",
    "\n",
    "t=[444e-6,619e-6,37.3e-3,340e-3,907e-3,2.45,3.72]\n",
    "\n",
    "import matplotlib.pyplot as plt\n",
    "plt.plot(n,t)\n",
    "plt.show()"
   ]
  },
  {
   "cell_type": "markdown",
   "metadata": {},
   "source": [
    "Now do the same for the following 5 programs, labelling the operations and running for various values of $n$ and $m$ to validate the big-$\\mathcal{O}$ experimentally. Watch out for the loop definitions."
   ]
  },
  {
   "cell_type": "code",
   "execution_count": 3,
   "metadata": {},
   "outputs": [
    {
     "ename": "TypeError",
     "evalue": "function_1() takes 1 positional argument but 2 were given",
     "output_type": "error",
     "traceback": [
      "\u001b[1;31m---------------------------------------------------------------------------\u001b[0m",
      "\u001b[1;31mTypeError\u001b[0m                                 Traceback (most recent call last)",
      "\u001b[1;32m<ipython-input-3-3a37a334c0c5>\u001b[0m in \u001b[0;36m<module>\u001b[1;34m\u001b[0m\n\u001b[0;32m      4\u001b[0m         \u001b[0mprint\u001b[0m\u001b[1;33m(\u001b[0m\u001b[0mi\u001b[0m\u001b[1;33m*\u001b[0m\u001b[0mn\u001b[0m\u001b[1;33m)\u001b[0m \u001b[1;31m#1 operation run n times\u001b[0m\u001b[1;33m\u001b[0m\u001b[1;33m\u001b[0m\u001b[0m\n\u001b[0;32m      5\u001b[0m \u001b[1;33m\u001b[0m\u001b[0m\n\u001b[1;32m----> 6\u001b[1;33m \u001b[0mtest_function\u001b[0m\u001b[1;33m(\u001b[0m\u001b[0mfunction_1\u001b[0m\u001b[1;33m)\u001b[0m\u001b[1;33m\u001b[0m\u001b[1;33m\u001b[0m\u001b[0m\n\u001b[0m",
      "\u001b[1;32m<ipython-input-1-4c80bde19082>\u001b[0m in \u001b[0;36mtest_function\u001b[1;34m(func, n)\u001b[0m\n\u001b[0;32m     18\u001b[0m         \u001b[1;32mfor\u001b[0m \u001b[0mi\u001b[0m \u001b[1;32min\u001b[0m \u001b[0mn\u001b[0m\u001b[1;33m:\u001b[0m\u001b[1;33m\u001b[0m\u001b[1;33m\u001b[0m\u001b[0m\n\u001b[0;32m     19\u001b[0m             \u001b[0mstart_time\u001b[0m \u001b[1;33m=\u001b[0m \u001b[0mtime\u001b[0m\u001b[1;33m.\u001b[0m\u001b[0mtime\u001b[0m\u001b[1;33m(\u001b[0m\u001b[1;33m)\u001b[0m\u001b[1;33m\u001b[0m\u001b[1;33m\u001b[0m\u001b[0m\n\u001b[1;32m---> 20\u001b[1;33m             \u001b[0mfunc\u001b[0m\u001b[1;33m(\u001b[0m\u001b[0mi\u001b[0m\u001b[1;33m,\u001b[0m\u001b[0mi\u001b[0m\u001b[1;33m)\u001b[0m\u001b[1;33m\u001b[0m\u001b[1;33m\u001b[0m\u001b[0m\n\u001b[0m\u001b[0;32m     21\u001b[0m             \u001b[0mt\u001b[0m\u001b[1;33m.\u001b[0m\u001b[0mappend\u001b[0m\u001b[1;33m(\u001b[0m\u001b[0mtime\u001b[0m\u001b[1;33m.\u001b[0m\u001b[0mtime\u001b[0m\u001b[1;33m(\u001b[0m\u001b[1;33m)\u001b[0m \u001b[1;33m-\u001b[0m \u001b[0mstart_time\u001b[0m\u001b[1;33m)\u001b[0m\u001b[1;33m\u001b[0m\u001b[1;33m\u001b[0m\u001b[0m\n\u001b[0;32m     22\u001b[0m \u001b[1;33m\u001b[0m\u001b[0m\n",
      "\u001b[1;31mTypeError\u001b[0m: function_1() takes 1 positional argument but 2 were given"
     ]
    }
   ],
   "source": [
    "def function_1(n):\n",
    "    print(\"starting for\",n, \"loops\") #1 operation          \n",
    "    for i in range(11):    #11 opeartions                \n",
    "        print(i*n) #1 operation run n times\n",
    "\n",
    "test_function(function_1)"
   ]
  },
  {
   "cell_type": "code",
   "execution_count": null,
   "metadata": {},
   "outputs": [],
   "source": [
    "def function_2(n):\n",
    "    s=1 #1 opeartion\n",
    "    print(\"starting for\",n, \"loops\")          #1 operation\n",
    "    for i in range(n): #2 operations, run n times (2n)\n",
    "        s=s+i**2 #1 opeartion run n times\n",
    "    return s #1 opeartion\n",
    "\n",
    "test_function(function_2)"
   ]
  },
  {
   "cell_type": "code",
   "execution_count": null,
   "metadata": {},
   "outputs": [],
   "source": [
    "def function_3(n):\n",
    "    s=1 #1 operation\n",
    "    print(\"starting for\",n, \"loops\")          #1 operation\n",
    "    for i in range(n): #2 opeartions, n times\n",
    "        for j in range(n): #2 opeartions n times\n",
    "            s=s+i*j # 1 operation\n",
    "    return s\n",
    "\n",
    "# i think this is going to be an x^2 graph\n",
    "test_function(function_3, n=[10,100,1000,3000,5000,8000, 10000])"
   ]
  },
  {
   "cell_type": "code",
   "execution_count": 4,
   "metadata": {},
   "outputs": [
    {
     "data": {
      "image/png": "[encoded data removed]",
      "text/plain": [
       "<Figure size 432x288 with 1 Axes>"
      ]
     },
     "metadata": {
      "needs_background": "light"
     },
     "output_type": "display_data"
    }
   ],
   "source": [
    "def function_4(n,m):\n",
    "    i=1;j=1 #2 operations\n",
    "    opcount=2 #1 opeartions\n",
    "    while i<=n and j<=m: #2 opeartions, n times\n",
    "        i=i+1 # 1 opeartion n times\n",
    "        j=j+1 # 1 operatiosn n times\n",
    "        opcount+=2 #1 opeartions n times\n",
    "    return opcount #1 oepartions\n",
    "test_function(function_4)"
   ]
  },
  {
   "cell_type": "code",
   "execution_count": null,
   "metadata": {},
   "outputs": [],
   "source": [
    "def function_5(n,m):\n",
    "    i=1;j=1;s=1 #3 operations\n",
    "    while i<=n: #1 operation n times\n",
    "        if j<=m: # 1 opeartion n times\n",
    "            s=s*j # i operation \n",
    "            j=j+1 # 1 opeartion\n",
    "    else: # 11 oepartion\n",
    "            s=s+i # 1 oepr\n",
    "            i=i+1 #1 op\n",
    "    return s #1 operation\n",
    "\n",
    "function_5(1,2)\n",
    "\n",
    "#test_function(function_5 n=[1,2])"
   ]
  },
  {
   "cell_type": "markdown",
   "metadata": {},
   "source": [
    "Run these programs with different values of the $n$ and $m$ parameters. Pick one and experiment on plotting the times. Does the graph match the big-$\\mathcal{O}$ you expected?"
   ]
  },
  {
   "cell_type": "markdown",
   "metadata": {},
   "source": [
    "## 2. Poison Puzzle\n",
    "\n",
    "An evil king has n bottles of wine, and a spy has just poisoned one of them. Unfortunately, they do not know which one it is. The poison is very deadly; just one drop diluted even a billion to one will still kill. Even so, it takes a full month for the poison to take effect. Design a scheme for determining exactly which one of the wine bottles was poisoned in just one month’s time while expending $\\mathcal{O}(log(n))$ taste testers. Can you write code to prove the scheme?"
   ]
  },
  {
   "cell_type": "code",
   "execution_count": 168,
   "metadata": {},
   "outputs": [
    {
     "name": "stdout",
     "output_type": "stream",
     "text": [
      "-----------------------------------------------------------\n",
      "\n",
      "There are 2 bottles of wine.\n",
      "The bottles are numbered from 0 up to 1\n",
      "The tasters are numbered from 0 up to 0\n",
      "\n",
      "\n",
      "The following died: (0,)\n",
      "Bottle number 1 is poisoned\n",
      "\n",
      "-----------------------------------------------------------\n",
      "\n",
      "There are 4 bottles of wine.\n",
      "The bottles are numbered from 0 up to 3\n",
      "The tasters are numbered from 0 up to 1\n",
      "\n",
      "\n",
      "The following died: (0, 1)\n",
      "Bottle number 3 is poisoned\n",
      "\n",
      "-----------------------------------------------------------\n",
      "\n",
      "There are 8 bottles of wine.\n",
      "The bottles are numbered from 0 up to 7\n",
      "The tasters are numbered from 0 up to 2\n",
      "\n",
      "\n",
      "The following died: (0,)\n",
      "Bottle number 1 is poisoned\n",
      "\n",
      "-----------------------------------------------------------\n",
      "\n",
      "There are 16 bottles of wine.\n",
      "The bottles are numbered from 0 up to 15\n",
      "The tasters are numbered from 0 up to 3\n",
      "\n",
      "\n",
      "The following died: (0, 3)\n",
      "Bottle number 7 is poisoned\n",
      "\n",
      "-----------------------------------------------------------\n",
      "\n",
      "There are 32 bottles of wine.\n",
      "The bottles are numbered from 0 up to 31\n",
      "The tasters are numbered from 0 up to 4\n",
      "\n",
      "\n",
      "The following died: (0, 4)\n",
      "Bottle number 9 is poisoned\n",
      "\n",
      "-----------------------------------------------------------\n",
      "\n",
      "There are 64 bottles of wine.\n",
      "The bottles are numbered from 0 up to 63\n",
      "The tasters are numbered from 0 up to 5\n",
      "\n",
      "\n",
      "The following died: (0, 5)\n",
      "Bottle number 11 is poisoned\n",
      "\n",
      "-----------------------------------------------------------\n",
      "\n",
      "There are 128 bottles of wine.\n",
      "The bottles are numbered from 0 up to 127\n",
      "The tasters are numbered from 0 up to 6\n",
      "\n",
      "\n",
      "The following died: (2, 4, 5)\n",
      "Bottle number 57 is poisoned\n",
      "\n",
      "-----------------------------------------------------------\n",
      "\n",
      "There are 256 bottles of wine.\n",
      "The bottles are numbered from 0 up to 255\n",
      "The tasters are numbered from 0 up to 7\n",
      "\n",
      "\n",
      "The following died: (1, 3, 4, 5, 7)\n",
      "Bottle number 209 is poisoned\n",
      "\n",
      "-----------------------------------------------------------\n",
      "\n",
      "There are 512 bottles of wine.\n",
      "The bottles are numbered from 0 up to 511\n",
      "The tasters are numbered from 0 up to 8\n",
      "\n",
      "\n",
      "The following died: (0, 2, 4, 5, 8)\n",
      "Bottle number 303 is poisoned\n",
      "\n"
     ]
    }
   ],
   "source": [
    "import random # for poisoning the bottles\n",
    "import math # for log \n",
    "import itertools # for combinations\n",
    "from itertools import chain, combinations\n",
    "def all_subsets(ss):\n",
    "    return chain(*map(lambda x: combinations(ss, x), range(0, len(ss)+1)))\n",
    "\n",
    "def poison_the_bottle(n):\n",
    "    bottles_list = [0] * (n - 1)\n",
    "    bottles_list.insert(random.randint(1, n+1), 1)\n",
    "    return bottles_list\n",
    "\n",
    "def get_combos_of_tasters(n):\n",
    "    tasters = list(range(0, int(math.log(n,2))))\n",
    "    tasters_list = []\n",
    "    for subset in all_subsets(tasters):\n",
    "        tasters_list.append(subset)\n",
    "    bottles_dict = dict(zip(tasters_list, poison_the_bottle(n)))\n",
    "    return bottles_dict\n",
    "\n",
    "def get_nth_key(dictionary, n=0):\n",
    "    if n < 0:\n",
    "        n += len(dictionary)\n",
    "    for i, key in enumerate(dictionary.keys()):\n",
    "        if i == n:\n",
    "            return key\n",
    "    raise IndexError(\"dictionary index out of range\") \n",
    "    \n",
    "def main(n):\n",
    "    print(f\"The bottles are numbered from 0 up to {n-1}\")\n",
    "    print(f\"The tasters are numbered from 0 up to {int(math.log(n,2))-1}\\n\")\n",
    "    combinations = get_combos_of_tasters(n)\n",
    "    count = 0\n",
    "    #print(combinations.keys())\n",
    "#     for combo in combinations.keys():\n",
    "#         print(f\"{combo} drinks bottle {count}\")\n",
    "#         count += 1\n",
    "        \n",
    "    who_died = list(combinations.keys())[list(combinations.values()).index(1)]  # Prints george\n",
    "    print(f\"\\nThe following died: {who_died}\")\n",
    "    list_of_items = list(combinations.items())  \n",
    "    number_of_bottle = [idx for idx, key in enumerate(list_of_items) if key[0] == who_died][0]\n",
    "    print(f\"Bottle number {number_of_bottle} is poisoned\\n\")\n",
    "\n",
    "\n",
    "def power(my_list):\n",
    "    return \n",
    "\n",
    "def test(test_count):\n",
    "    tests = [ 2**x for x in list(range(1, test_count)) ]\n",
    "    #print(tests)\n",
    "    for i in tests:\n",
    "        print(\"-----------------------------------------------------------\")\n",
    "        print(f\"\\nThere are {i} bottles of wine.\")\n",
    "        main(i)\n",
    "\n",
    "test(10)"
   ]
  }
 ],
 "metadata": {
  "kernelspec": {
   "display_name": "Python 3",
   "language": "python",
   "name": "python3"
  },
  "language_info": {
   "codemirror_mode": {
    "name": "ipython",
    "version": 3
   },
   "file_extension": ".py",
   "mimetype": "text/x-python",
   "name": "python",
   "nbconvert_exporter": "python",
   "pygments_lexer": "ipython3",
   "version": "3.8.5"
  }
 },
 "nbformat": 4,
 "nbformat_minor": 2
}
